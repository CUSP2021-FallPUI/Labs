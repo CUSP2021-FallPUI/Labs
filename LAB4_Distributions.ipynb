{
 "cells": [
  {
   "cell_type": "markdown",
   "metadata": {},
   "source": [
    "# LAB 4. Probability distributions "
   ]
  },
  {
   "cell_type": "markdown",
   "metadata": {},
   "source": [
    "This lab illustrates the ways of analyzing probability distributions in Python, illustrated on examples of:\n",
    "* people's hights, \n",
    "* weather data (outside temperature readings) and city sizes\n",
    "* city sizes\n",
    "\n",
    "If you may use a refresher on the basics of probabilities and statistics, including the concept of a random variable, probability distribution, mean and standard deviation you may find a stats bootcamp at: https://github.com/SSobol/ProbabilityStatsBootcamp/blob/master/Stats_Bootcamp_2018.ipynb"
   ]
  },
  {
   "cell_type": "code",
   "execution_count": 1,
   "metadata": {},
   "outputs": [],
   "source": [
    "#include packages\n",
    "import pandas as pd\n",
    "import numpy as np\n",
    "import matplotlib.pyplot as plt #for creating plots\n",
    "from scipy import stats\n",
    "import seaborn as sns #for styling the plots\n",
    "#warnings.filterwarnings('ignore')\n",
    "%matplotlib inline "
   ]
  },
  {
   "cell_type": "code",
   "execution_count": 2,
   "metadata": {},
   "outputs": [],
   "source": [
    "#include the distributions\n",
    "from scipy.stats import norm #normal\n",
    "from scipy.stats import genextreme as gev #generalized extreme value\n",
    "from scipy.stats import pareto #pareto"
   ]
  },
  {
   "cell_type": "markdown",
   "metadata": {},
   "source": [
    "## Example 1. People's hight distribution\n",
    "\n",
    "Source: a sample of 10.000 people heigh-weight info from https://www.kaggle.com/mustafaali96/weight-height?select=weight-height.csv\n",
    "\n",
    "The specific source and geography not disclosed, so we don't rely on this data being fully representative. So just using for illustration purposes. Although one can notice that the averages fit those reported for US. "
   ]
  },
  {
   "cell_type": "code",
   "execution_count": 3,
   "metadata": {},
   "outputs": [],
   "source": [
    "#upload the data\n",
    "height = pd.read_csv('https://raw.githubusercontent.com/CUSP2020PUI/Data/master/weight-height.csv')"
   ]
  },
  {
   "cell_type": "code",
   "execution_count": 4,
   "metadata": {},
   "outputs": [
    {
     "data": {
      "text/html": [
       "<div>\n",
       "<style scoped>\n",
       "    .dataframe tbody tr th:only-of-type {\n",
       "        vertical-align: middle;\n",
       "    }\n",
       "\n",
       "    .dataframe tbody tr th {\n",
       "        vertical-align: top;\n",
       "    }\n",
       "\n",
       "    .dataframe thead th {\n",
       "        text-align: right;\n",
       "    }\n",
       "</style>\n",
       "<table border=\"1\" class=\"dataframe\">\n",
       "  <thead>\n",
       "    <tr style=\"text-align: right;\">\n",
       "      <th></th>\n",
       "      <th>Gender</th>\n",
       "      <th>Height</th>\n",
       "      <th>Weight</th>\n",
       "    </tr>\n",
       "  </thead>\n",
       "  <tbody>\n",
       "    <tr>\n",
       "      <td>0</td>\n",
       "      <td>Male</td>\n",
       "      <td>73.847017</td>\n",
       "      <td>241.893563</td>\n",
       "    </tr>\n",
       "    <tr>\n",
       "      <td>1</td>\n",
       "      <td>Male</td>\n",
       "      <td>68.781904</td>\n",
       "      <td>162.310473</td>\n",
       "    </tr>\n",
       "    <tr>\n",
       "      <td>2</td>\n",
       "      <td>Male</td>\n",
       "      <td>74.110105</td>\n",
       "      <td>212.740856</td>\n",
       "    </tr>\n",
       "    <tr>\n",
       "      <td>3</td>\n",
       "      <td>Male</td>\n",
       "      <td>71.730978</td>\n",
       "      <td>220.042470</td>\n",
       "    </tr>\n",
       "    <tr>\n",
       "      <td>4</td>\n",
       "      <td>Male</td>\n",
       "      <td>69.881796</td>\n",
       "      <td>206.349801</td>\n",
       "    </tr>\n",
       "  </tbody>\n",
       "</table>\n",
       "</div>"
      ],
      "text/plain": [
       "  Gender     Height      Weight\n",
       "0   Male  73.847017  241.893563\n",
       "1   Male  68.781904  162.310473\n",
       "2   Male  74.110105  212.740856\n",
       "3   Male  71.730978  220.042470\n",
       "4   Male  69.881796  206.349801"
      ]
     },
     "execution_count": 4,
     "metadata": {},
     "output_type": "execute_result"
    }
   ],
   "source": [
    "height.head()"
   ]
  },
  {
   "cell_type": "code",
   "execution_count": 5,
   "metadata": {},
   "outputs": [
    {
     "data": {
      "text/html": [
       "<div>\n",
       "<style scoped>\n",
       "    .dataframe tbody tr th:only-of-type {\n",
       "        vertical-align: middle;\n",
       "    }\n",
       "\n",
       "    .dataframe tbody tr th {\n",
       "        vertical-align: top;\n",
       "    }\n",
       "\n",
       "    .dataframe thead th {\n",
       "        text-align: right;\n",
       "    }\n",
       "</style>\n",
       "<table border=\"1\" class=\"dataframe\">\n",
       "  <thead>\n",
       "    <tr style=\"text-align: right;\">\n",
       "      <th></th>\n",
       "      <th>Height</th>\n",
       "      <th>Weight</th>\n",
       "    </tr>\n",
       "  </thead>\n",
       "  <tbody>\n",
       "    <tr>\n",
       "      <td>count</td>\n",
       "      <td>10000.000000</td>\n",
       "      <td>10000.000000</td>\n",
       "    </tr>\n",
       "    <tr>\n",
       "      <td>mean</td>\n",
       "      <td>66.367560</td>\n",
       "      <td>161.440357</td>\n",
       "    </tr>\n",
       "    <tr>\n",
       "      <td>std</td>\n",
       "      <td>3.847528</td>\n",
       "      <td>32.108439</td>\n",
       "    </tr>\n",
       "    <tr>\n",
       "      <td>min</td>\n",
       "      <td>54.263133</td>\n",
       "      <td>64.700127</td>\n",
       "    </tr>\n",
       "    <tr>\n",
       "      <td>25%</td>\n",
       "      <td>63.505620</td>\n",
       "      <td>135.818051</td>\n",
       "    </tr>\n",
       "    <tr>\n",
       "      <td>50%</td>\n",
       "      <td>66.318070</td>\n",
       "      <td>161.212928</td>\n",
       "    </tr>\n",
       "    <tr>\n",
       "      <td>75%</td>\n",
       "      <td>69.174262</td>\n",
       "      <td>187.169525</td>\n",
       "    </tr>\n",
       "    <tr>\n",
       "      <td>max</td>\n",
       "      <td>78.998742</td>\n",
       "      <td>269.989699</td>\n",
       "    </tr>\n",
       "  </tbody>\n",
       "</table>\n",
       "</div>"
      ],
      "text/plain": [
       "             Height        Weight\n",
       "count  10000.000000  10000.000000\n",
       "mean      66.367560    161.440357\n",
       "std        3.847528     32.108439\n",
       "min       54.263133     64.700127\n",
       "25%       63.505620    135.818051\n",
       "50%       66.318070    161.212928\n",
       "75%       69.174262    187.169525\n",
       "max       78.998742    269.989699"
      ]
     },
     "execution_count": 5,
     "metadata": {},
     "output_type": "execute_result"
    }
   ],
   "source": [
    "height.describe() #10.000 records"
   ]
  },
  {
   "cell_type": "code",
   "execution_count": 6,
   "metadata": {},
   "outputs": [],
   "source": [
    "#introduce a custom function performing distribution analysis\n",
    "def distribution_analysis(x, log_scale = False, fit_distribution = 'None', bins = 50, vis_means = True, vis_curve = True, print_outputs = True):\n",
    "    #x - array of observations\n",
    "    #log_scale - analyze distribution of log(x) if True\n",
    "    #fit_distribution - fit the distribution ('normal', 'gev' or 'pareto') or do nothing if 'None'\n",
    "    #bins - how many bins to use for binning the data\n",
    "    #vis_means - show mean and std lines if True\n",
    "    #vis_curve - show interpolated distribution curve over the histogram bars if True\n",
    "    #print_outputs - print mean, std and percentiles\n",
    "    \n",
    "    if log_scale: \n",
    "        x1 = np.log10(x) #convert data to decimal logarithms\n",
    "        xlabel = 'log(values)' #reflect in x labels\n",
    "    else:\n",
    "        x1 = x #leave original scale \n",
    "        xlabel = 'values'\n",
    "    mu = x1.mean() #compute the mean\n",
    "    if log_scale: #if logscale, output all three - log mean, its original scale and original scale mean\n",
    "        print('Log mean = {:.2f}({:.2f}), mean = {:.2f}'.format(mu,10**mu,x.mean()))\n",
    "    else:\n",
    "        print('Mean = {:.2f}'.format(mu)) #otherwise print mean\n",
    "    sigma = x1.std() #compute and output standard deviation \n",
    "    print('Standard deviation = {:.2f}'.format(sigma))\n",
    "    for p in [1,5,25,50,75,95,99]: #output percentile values\n",
    "        print('{:d} percentile = {:.2f}'.format(p,np.percentile(x,p)))\n",
    "        \n",
    "    #visualize histogram and the interpolated line (if vis_curve=True) using seaborn\n",
    "    sns.distplot(x1, hist=True, kde=vis_curve, \n",
    "        bins=bins,color = 'darkblue', \n",
    "        hist_kws={'edgecolor':'black'},\n",
    "        kde_kws={'linewidth': 4})\n",
    "    \n",
    "    #show vertical lines for mean and std if vis_means = True\n",
    "    if vis_means:\n",
    "        plt.axvline(mu, color='r', ls='--', lw=2.0)\n",
    "        plt.axvline(mu-sigma, color='g', ls='--', lw=2.0)\n",
    "        plt.axvline(mu+sigma, color='g', ls='--', lw=2.0)\n",
    "        \n",
    "    ylim = plt.gca().get_ylim() #keep the y-range of original distribution density values \n",
    "    #(to make sure the fitted distribution would not affect it)\n",
    "    \n",
    "    h = np.arange(mu - 3 * sigma, mu + 3 * sigma, sigma / 100) #3-sigma visualization range for the fitted distribution\n",
    "    pars = None #fitted distribution parameters\n",
    "    \n",
    "    #fit and visualize the theoretic distribution\n",
    "    if fit_distribution == 'normal':\n",
    "        pars = norm.fit(x1)\n",
    "        plt.plot(h,norm.pdf(h,*pars),'r')\n",
    "    elif fit_distribution == 'gev':\n",
    "        pars = gev.fit(x1)\n",
    "        plt.plot(h,gev.pdf(h,*pars),'r')\n",
    "    elif fit_distribution == 'pareto':\n",
    "        pars = pareto.fit(x1)\n",
    "        plt.plot(h,pareto.pdf(h,*pars),'r')\n",
    "    \n",
    "    plt.xlabel(xlabel) #add x label \n",
    "    plt.ylim(ylim) #restore the y-range of original distribution density values \n",
    "    plt.show()\n",
    "    return pars"
   ]
  },
  {
   "cell_type": "code",
   "execution_count": 7,
   "metadata": {},
   "outputs": [
    {
     "name": "stdout",
     "output_type": "stream",
     "text": [
      "Mean = 66.37\n",
      "Standard deviation = 3.85\n",
      "1 percentile = 58.13\n",
      "5 percentile = 60.25\n",
      "25 percentile = 63.51\n",
      "50 percentile = 66.32\n",
      "75 percentile = 69.17\n",
      "95 percentile = 72.62\n",
      "99 percentile = 74.79\n"
     ]
    },
    {
     "data": {
      "image/png": "[encoded data removed]",
      "text/plain": [
       "<Figure size 432x288 with 1 Axes>"
      ]
     },
     "metadata": {
      "needs_background": "light"
     },
     "output_type": "display_data"
    }
   ],
   "source": [
    "# output the empirical distribution for people's heights - histogram and interpolated curve\n",
    "distribution_analysis(height.Height, bins=40, vis_means = False)"
   ]
  },
  {
   "cell_type": "markdown",
   "metadata": {},
   "source": [
    "We can see the distribution somewhat similar to bell curve (normal), but having a wider (double) peak"
   ]
  },
  {
   "cell_type": "code",
   "execution_count": 8,
   "metadata": {},
   "outputs": [
    {
     "name": "stdout",
     "output_type": "stream",
     "text": [
      "Mean = 66.37\n",
      "Standard deviation = 3.85\n",
      "1 percentile = 58.13\n",
      "5 percentile = 60.25\n",
      "25 percentile = 63.51\n",
      "50 percentile = 66.32\n",
      "75 percentile = 69.17\n",
      "95 percentile = 72.62\n",
      "99 percentile = 74.79\n"
     ]
    },
    {
     "data": {
      "image/png": "[encoded data removed]",
      "text/plain": [
       "<Figure size 432x288 with 1 Axes>"
      ]
     },
     "metadata": {
      "needs_background": "light"
     },
     "output_type": "display_data"
    }
   ],
   "source": [
    "#indeed if we now fit the normal distribution the fit is not going to be perfect\n",
    "distribution_analysis(height.Height, fit_distribution='normal', bins=40);"
   ]
  },
  {
   "cell_type": "markdown",
   "metadata": {},
   "source": [
    "This is because the men and women heigh distribution are different and here are mixed together"
   ]
  },
  {
   "cell_type": "markdown",
   "metadata": {},
   "source": [
    "In fact we have two modes in the distribution. Let's consider them separately"
   ]
  },
  {
   "cell_type": "code",
   "execution_count": 9,
   "metadata": {},
   "outputs": [
    {
     "name": "stdout",
     "output_type": "stream",
     "text": [
      "5000 5000\n"
     ]
    }
   ],
   "source": [
    "men_height = height[height.Gender=='Male'] #take only men\n",
    "women_height = height[height.Gender=='Female'] #take only men\n",
    "print (len(men_height), len(women_height)) #equal sizes of men/women samples"
   ]
  },
  {
   "cell_type": "code",
   "execution_count": 10,
   "metadata": {},
   "outputs": [
    {
     "name": "stdout",
     "output_type": "stream",
     "text": [
      "Mean = 69.03\n",
      "Standard deviation = 2.86\n",
      "1 percentile = 62.06\n",
      "5 percentile = 64.33\n",
      "25 percentile = 67.17\n",
      "50 percentile = 69.03\n",
      "75 percentile = 70.99\n",
      "95 percentile = 73.70\n",
      "99 percentile = 75.69\n"
     ]
    },
    {
     "data": {
      "image/png": "[encoded data removed]",
      "text/plain": [
       "<Figure size 432x288 with 1 Axes>"
      ]
     },
     "metadata": {
      "needs_background": "light"
     },
     "output_type": "display_data"
    }
   ],
   "source": [
    "#if we now fit the normal distribution to men heights, it fits pretty well\n",
    "distribution_analysis(men_height.Height, fit_distribution='normal',bins=40);"
   ]
  },
  {
   "cell_type": "markdown",
   "metadata": {},
   "source": [
    "The average height is 69\", while those taller than 75.7\" are already among the 1% outliers "
   ]
  },
  {
   "cell_type": "code",
   "execution_count": 11,
   "metadata": {},
   "outputs": [
    {
     "name": "stdout",
     "output_type": "stream",
     "text": [
      "Mean = 63.71\n",
      "Standard deviation = 2.70\n",
      "1 percentile = 57.31\n",
      "5 percentile = 59.27\n",
      "25 percentile = 61.89\n",
      "50 percentile = 63.73\n",
      "75 percentile = 65.56\n",
      "95 percentile = 68.14\n",
      "99 percentile = 69.89\n"
     ]
    },
    {
     "data": {
      "image/png": "[encoded data removed]",
      "text/plain": [
       "<Figure size 432x288 with 1 Axes>"
      ]
     },
     "metadata": {
      "needs_background": "light"
     },
     "output_type": "display_data"
    }
   ],
   "source": [
    "#same for women; just the parameters are different:\n",
    "#the mean is 63.7\" and the 1% outliers start around the same level as the men averages\n",
    "distribution_analysis(women_height.Height, fit_distribution='normal',bins=40);"
   ]
  },
  {
   "cell_type": "markdown",
   "metadata": {},
   "source": [
    "### Extrapolating insights with the theoretic distributions\n",
    "Now illustrate the way fitting the theoretic distribution analysis can help generalize the insights beyond the considered sample. Take a much smaller sample of 100 random men heights - imagine this is all the data we've got"
   ]
  },
  {
   "cell_type": "code",
   "execution_count": 12,
   "metadata": {},
   "outputs": [],
   "source": [
    "men_sample = men_height.sample(n=100, random_state=11)"
   ]
  },
  {
   "cell_type": "code",
   "execution_count": 13,
   "metadata": {},
   "outputs": [
    {
     "name": "stdout",
     "output_type": "stream",
     "text": [
      "Mean = 68.87\n",
      "Standard deviation = 2.85\n",
      "1 percentile = 61.92\n",
      "5 percentile = 63.56\n",
      "25 percentile = 67.44\n",
      "50 percentile = 68.70\n",
      "75 percentile = 70.73\n",
      "95 percentile = 73.74\n",
      "99 percentile = 74.10\n"
     ]
    },
    {
     "data": {
      "image/png": "[encoded data removed]",
      "text/plain": [
       "<Figure size 432x288 with 1 Axes>"
      ]
     },
     "metadata": {
      "needs_background": "light"
     },
     "output_type": "display_data"
    }
   ],
   "source": [
    "#the empiric distribution looks much more noisy, however the fitted normal distribution has similar parameters compared to the original one\n",
    "pars = distribution_analysis(men_sample.Height, fit_distribution='normal',bins=10)"
   ]
  },
  {
   "cell_type": "markdown",
   "metadata": {},
   "source": [
    "Use the fitted distribution to assess the chances for observing extreme hight values. Imagine we're designing a door and want to know the percentage of people if could comfortably accomodate."
   ]
  },
  {
   "cell_type": "code",
   "execution_count": 14,
   "metadata": {},
   "outputs": [],
   "source": [
    "#the function reporting pecentage of extreme values above a given `threshold` according to the empiric `data`\n",
    "#as well as the theoretic distribution `dist` given its parameters `pars`\n",
    "def extreme_percentage(threshold, data, dist, pars):\n",
    "    if data is None:\n",
    "        empiric = None\n",
    "    else:\n",
    "        empiric = 100.0 * sum(data >= threshold)/len(data) #compute empiric propobability\n",
    "    if dist is None:\n",
    "        theoretic = None\n",
    "    else:\n",
    "        theoretic = 100.0 * (1 - dist.cdf(threshold, *pars)) #asses theoretic probability using cumulative distribution function\n",
    "    print('Percentage higher than {}: theory = {}, empiric = {}'.format(threshold, theoretic, empiric))"
   ]
  },
  {
   "cell_type": "code",
   "execution_count": 15,
   "metadata": {},
   "outputs": [
    {
     "name": "stdout",
     "output_type": "stream",
     "text": [
      "Percentage higher than 72: theory = 13.481970712238622, empiric = 12.0\n"
     ]
    }
   ],
   "source": [
    "#percetage of people at least 6' tall\n",
    "extreme_percentage(threshold = 72, data = men_sample.Height, dist = norm, pars = pars)"
   ]
  },
  {
   "cell_type": "markdown",
   "metadata": {},
   "source": [
    "We can see the theoretic and empuric estimates are similar, although of course not exactly the same"
   ]
  },
  {
   "cell_type": "code",
   "execution_count": 16,
   "metadata": {},
   "outputs": [
    {
     "name": "stdout",
     "output_type": "stream",
     "text": [
      "Percentage higher than 78: theory = 0.06394015857694724, empiric = 0.0\n"
     ]
    }
   ],
   "source": [
    "#percetage of people at least 6.5' tall\n",
    "extreme_percentage(threshold = 78, data = men_sample.Height, dist = norm, pars = pars)"
   ]
  },
  {
   "cell_type": "markdown",
   "metadata": {},
   "source": [
    "The theoretic estimate gives a somewhat low chance of 0.06%, while the sample of 100 people does not have heights above 6.5' at all, and this way fails to provide any reliable conclusion other than it should not be much higher than 1%. How appropriate is the theoretic estimate?"
   ]
  },
  {
   "cell_type": "code",
   "execution_count": 17,
   "metadata": {},
   "outputs": [],
   "source": [
    "#compare it against the empirical estimate from a larger sample "
   ]
  },
  {
   "cell_type": "code",
   "execution_count": 18,
   "metadata": {},
   "outputs": [
    {
     "name": "stdout",
     "output_type": "stream",
     "text": [
      "Percentage higher than 78: theory = 0.06394015857694724, empiric = 0.1\n"
     ]
    }
   ],
   "source": [
    "extreme_percentage(threshold = 78, data = men_height.Height, dist = norm, pars = pars)"
   ]
  },
  {
   "cell_type": "markdown",
   "metadata": {},
   "source": [
    "So the theoretic distribution provided an estimate pretty close to the one observed from a larger sample without seeing this sample! So it helped drawing a meaningful inferece from a small sample which by itself could not provide the direct empiric estimate. This is what theoretic exprapolation is about and we see it works. Based on it, if we make the door 6.5' hight it will accomodate 99.94% of men entering and even more women as they are less tall on average."
   ]
  },
  {
   "cell_type": "code",
   "execution_count": 19,
   "metadata": {},
   "outputs": [
    {
     "name": "stdout",
     "output_type": "stream",
     "text": [
      "Percentage higher than 84: theory = 4.7119495527603306e-06, empiric = 0.0\n"
     ]
    }
   ],
   "source": [
    "#and it can work much further, where even the larger complete sample fails to provide any estimates\n",
    "extreme_percentage(threshold = 84, data = men_height.Height, dist = norm, pars = pars)\n",
    "#the theoretic chance of meeting a man at least 7' tall is 1 out of 20M. No surpise we don't see those in the sample of 5000."
   ]
  },
  {
   "cell_type": "markdown",
   "metadata": {},
   "source": [
    "But not any theoretic inference can be reliable. E.g. if we fit a different kind of distribution - Pareto, the inferences change dramatically!"
   ]
  },
  {
   "cell_type": "code",
   "execution_count": 20,
   "metadata": {},
   "outputs": [
    {
     "name": "stdout",
     "output_type": "stream",
     "text": [
      "Mean = 68.87\n",
      "Standard deviation = 2.85\n",
      "1 percentile = 61.92\n",
      "5 percentile = 63.56\n",
      "25 percentile = 67.44\n",
      "50 percentile = 68.70\n",
      "75 percentile = 70.73\n",
      "95 percentile = 73.74\n",
      "99 percentile = 74.10\n"
     ]
    },
    {
     "name": "stderr",
     "output_type": "stream",
     "text": [
      "/Users/stanislav/opt/anaconda3/lib/python3.7/site-packages/scipy/stats/_distn_infrastructure.py:2381: RuntimeWarning: invalid value encountered in double_scalars\n",
      "  Lhat = muhat - Shat*mu\n"
     ]
    },
    {
     "data": {
      "image/png": "[encoded data removed]",
      "text/plain": [
       "<Figure size 432x288 with 1 Axes>"
      ]
     },
     "metadata": {
      "needs_background": "light"
     },
     "output_type": "display_data"
    }
   ],
   "source": [
    "pareto_pars = distribution_analysis(men_sample.Height, fit_distribution='pareto', bins=10)"
   ]
  },
  {
   "cell_type": "code",
   "execution_count": 21,
   "metadata": {},
   "outputs": [
    {
     "name": "stdout",
     "output_type": "stream",
     "text": [
      "Percentage higher than 84: theory = 6.291687302412141, empiric = 0.0\n"
     ]
    }
   ],
   "source": [
    "extreme_percentage(threshold = 84, data = men_height.Height, dist = pareto, pars = pareto_pars)"
   ]
  },
  {
   "cell_type": "markdown",
   "metadata": {},
   "source": [
    "It now gives more than a 6% chance (1 out of 16) for meeting an at least 7' tall man! Which is of course completely inconsistent with empirical observation..."
   ]
  },
  {
   "cell_type": "markdown",
   "metadata": {},
   "source": [
    "But if we look at the plot above, we see that the distribution did not really fit the sample well. So obviously its inferences can't be trusted.\n",
    "\n",
    "This assessment is visually obvious but it highlights the importance of assessing the quality of the model fit. We are going to provide some more robust quantitative criteria for it later in the class."
   ]
  },
  {
   "cell_type": "markdown",
   "metadata": {},
   "source": [
    "## Task 1. Weight analysis\n",
    "Fit the normal distribution to the a) men and b) women weight observations (use complete sample). Report the parameters and visulize the fit. c) Provide a theoretic and empiric assessment of observing a man and women heavier than 200 lb, 250 lb and 300 lb."
   ]
  },
  {
   "cell_type": "markdown",
   "metadata": {},
   "source": [
    "## Example 2. Weather data"
   ]
  },
  {
   "cell_type": "markdown",
   "metadata": {},
   "source": [
    "Consider another example of weather data provided by https://www.noaa.gov\n",
    "\n",
    "It was collected for several weather stations accross NYC and includes the daily observations of minimal, maximal, average daily temperatures, precipitation and snowfall amounts."
   ]
  },
  {
   "cell_type": "code",
   "execution_count": 22,
   "metadata": {},
   "outputs": [],
   "source": [
    "NYCweather = pd.read_csv('https://raw.githubusercontent.com/CUSP2020PUI/Data/master/weather_daily.csv')"
   ]
  },
  {
   "cell_type": "code",
   "execution_count": 23,
   "metadata": {},
   "outputs": [
    {
     "data": {
      "text/html": [
       "<div>\n",
       "<style scoped>\n",
       "    .dataframe tbody tr th:only-of-type {\n",
       "        vertical-align: middle;\n",
       "    }\n",
       "\n",
       "    .dataframe tbody tr th {\n",
       "        vertical-align: top;\n",
       "    }\n",
       "\n",
       "    .dataframe thead th {\n",
       "        text-align: right;\n",
       "    }\n",
       "</style>\n",
       "<table border=\"1\" class=\"dataframe\">\n",
       "  <thead>\n",
       "    <tr style=\"text-align: right;\">\n",
       "      <th></th>\n",
       "      <th>date</th>\n",
       "      <th>maxtemp</th>\n",
       "      <th>mintemp</th>\n",
       "      <th>avgtemp</th>\n",
       "      <th>precipitation</th>\n",
       "      <th>snowfall</th>\n",
       "      <th>latitude</th>\n",
       "      <th>longitude</th>\n",
       "    </tr>\n",
       "  </thead>\n",
       "  <tbody>\n",
       "    <tr>\n",
       "      <td>0</td>\n",
       "      <td>1/1/11 0:00</td>\n",
       "      <td>51</td>\n",
       "      <td>38</td>\n",
       "      <td>44.5</td>\n",
       "      <td>0</td>\n",
       "      <td>0</td>\n",
       "      <td>40.84</td>\n",
       "      <td>-73.85</td>\n",
       "    </tr>\n",
       "    <tr>\n",
       "      <td>1</td>\n",
       "      <td>1/2/11 0:00</td>\n",
       "      <td>52</td>\n",
       "      <td>38</td>\n",
       "      <td>45</td>\n",
       "      <td>0.01</td>\n",
       "      <td>0</td>\n",
       "      <td>40.84</td>\n",
       "      <td>-73.85</td>\n",
       "    </tr>\n",
       "    <tr>\n",
       "      <td>2</td>\n",
       "      <td>1/3/11 0:00</td>\n",
       "      <td>38</td>\n",
       "      <td>29</td>\n",
       "      <td>33.5</td>\n",
       "      <td>0</td>\n",
       "      <td>0</td>\n",
       "      <td>40.84</td>\n",
       "      <td>-73.85</td>\n",
       "    </tr>\n",
       "    <tr>\n",
       "      <td>3</td>\n",
       "      <td>1/4/11 0:00</td>\n",
       "      <td>42</td>\n",
       "      <td>32</td>\n",
       "      <td>37</td>\n",
       "      <td>0</td>\n",
       "      <td>0</td>\n",
       "      <td>40.84</td>\n",
       "      <td>-73.85</td>\n",
       "    </tr>\n",
       "    <tr>\n",
       "      <td>4</td>\n",
       "      <td>1/5/11 0:00</td>\n",
       "      <td>40</td>\n",
       "      <td>32</td>\n",
       "      <td>36</td>\n",
       "      <td>0</td>\n",
       "      <td>0</td>\n",
       "      <td>40.84</td>\n",
       "      <td>-73.85</td>\n",
       "    </tr>\n",
       "  </tbody>\n",
       "</table>\n",
       "</div>"
      ],
      "text/plain": [
       "          date maxtemp mintemp avgtemp precipitation snowfall  latitude  \\\n",
       "0  1/1/11 0:00      51      38    44.5             0        0     40.84   \n",
       "1  1/2/11 0:00      52      38      45          0.01        0     40.84   \n",
       "2  1/3/11 0:00      38      29    33.5             0        0     40.84   \n",
       "3  1/4/11 0:00      42      32      37             0        0     40.84   \n",
       "4  1/5/11 0:00      40      32      36             0        0     40.84   \n",
       "\n",
       "   longitude  \n",
       "0     -73.85  \n",
       "1     -73.85  \n",
       "2     -73.85  \n",
       "3     -73.85  \n",
       "4     -73.85  "
      ]
     },
     "execution_count": 23,
     "metadata": {},
     "output_type": "execute_result"
    }
   ],
   "source": [
    "NYCweather.head()"
   ]
  },
  {
   "cell_type": "code",
   "execution_count": 24,
   "metadata": {},
   "outputs": [
    {
     "data": {
      "text/html": [
       "<div>\n",
       "<style scoped>\n",
       "    .dataframe tbody tr th:only-of-type {\n",
       "        vertical-align: middle;\n",
       "    }\n",
       "\n",
       "    .dataframe tbody tr th {\n",
       "        vertical-align: top;\n",
       "    }\n",
       "\n",
       "    .dataframe thead th {\n",
       "        text-align: right;\n",
       "    }\n",
       "</style>\n",
       "<table border=\"1\" class=\"dataframe\">\n",
       "  <thead>\n",
       "    <tr style=\"text-align: right;\">\n",
       "      <th></th>\n",
       "      <th>latitude</th>\n",
       "      <th>longitude</th>\n",
       "    </tr>\n",
       "  </thead>\n",
       "  <tbody>\n",
       "    <tr>\n",
       "      <td>count</td>\n",
       "      <td>4774.000000</td>\n",
       "      <td>4774.000000</td>\n",
       "    </tr>\n",
       "    <tr>\n",
       "      <td>mean</td>\n",
       "      <td>40.758513</td>\n",
       "      <td>-73.875316</td>\n",
       "    </tr>\n",
       "    <tr>\n",
       "      <td>std</td>\n",
       "      <td>0.068739</td>\n",
       "      <td>0.069974</td>\n",
       "    </tr>\n",
       "    <tr>\n",
       "      <td>min</td>\n",
       "      <td>40.650000</td>\n",
       "      <td>-73.970000</td>\n",
       "    </tr>\n",
       "    <tr>\n",
       "      <td>25%</td>\n",
       "      <td>40.650000</td>\n",
       "      <td>-73.970000</td>\n",
       "    </tr>\n",
       "    <tr>\n",
       "      <td>50%</td>\n",
       "      <td>40.770000</td>\n",
       "      <td>-73.900000</td>\n",
       "    </tr>\n",
       "    <tr>\n",
       "      <td>75%</td>\n",
       "      <td>40.780000</td>\n",
       "      <td>-73.780000</td>\n",
       "    </tr>\n",
       "    <tr>\n",
       "      <td>max</td>\n",
       "      <td>40.840000</td>\n",
       "      <td>-73.780000</td>\n",
       "    </tr>\n",
       "  </tbody>\n",
       "</table>\n",
       "</div>"
      ],
      "text/plain": [
       "          latitude    longitude\n",
       "count  4774.000000  4774.000000\n",
       "mean     40.758513   -73.875316\n",
       "std       0.068739     0.069974\n",
       "min      40.650000   -73.970000\n",
       "25%      40.650000   -73.970000\n",
       "50%      40.770000   -73.900000\n",
       "75%      40.780000   -73.780000\n",
       "max      40.840000   -73.780000"
      ]
     },
     "execution_count": 24,
     "metadata": {},
     "output_type": "execute_result"
    }
   ],
   "source": [
    "NYCweather.describe()"
   ]
  },
  {
   "cell_type": "markdown",
   "metadata": {},
   "source": [
    "As only lat-long seem to be numeric convert other fields of interst to the appropriate type"
   ]
  },
  {
   "cell_type": "code",
   "execution_count": 25,
   "metadata": {},
   "outputs": [],
   "source": [
    "for col in ['maxtemp','mintemp','avgtemp']:\n",
    "    NYCweather[col] = pd.to_numeric(NYCweather[col],errors='coerce')"
   ]
  },
  {
   "cell_type": "code",
   "execution_count": 26,
   "metadata": {},
   "outputs": [],
   "source": [
    "NYCweather.date = pd.to_datetime(NYCweather.date)"
   ]
  },
  {
   "cell_type": "code",
   "execution_count": 27,
   "metadata": {},
   "outputs": [],
   "source": [
    "NYCweather.dropna(inplace = True) #drop records with nan's"
   ]
  },
  {
   "cell_type": "code",
   "execution_count": 28,
   "metadata": {},
   "outputs": [
    {
     "data": {
      "text/plain": [
       "(Timestamp('2011-01-01 00:00:00'), Timestamp('2014-05-01 00:00:00'))"
      ]
     },
     "execution_count": 28,
     "metadata": {},
     "output_type": "execute_result"
    }
   ],
   "source": [
    "(NYCweather.date.min(),NYCweather.date.max()) #period of observation"
   ]
  },
  {
   "cell_type": "code",
   "execution_count": 29,
   "metadata": {},
   "outputs": [
    {
     "data": {
      "text/html": [
       "<div>\n",
       "<style scoped>\n",
       "    .dataframe tbody tr th:only-of-type {\n",
       "        vertical-align: middle;\n",
       "    }\n",
       "\n",
       "    .dataframe tbody tr th {\n",
       "        vertical-align: top;\n",
       "    }\n",
       "\n",
       "    .dataframe thead th {\n",
       "        text-align: right;\n",
       "    }\n",
       "</style>\n",
       "<table border=\"1\" class=\"dataframe\">\n",
       "  <thead>\n",
       "    <tr style=\"text-align: right;\">\n",
       "      <th></th>\n",
       "      <th></th>\n",
       "      <th>date</th>\n",
       "    </tr>\n",
       "    <tr>\n",
       "      <th>latitude</th>\n",
       "      <th>longitude</th>\n",
       "      <th></th>\n",
       "    </tr>\n",
       "  </thead>\n",
       "  <tbody>\n",
       "    <tr>\n",
       "      <td>40.65</td>\n",
       "      <td>-73.78</td>\n",
       "      <td>1217</td>\n",
       "    </tr>\n",
       "    <tr>\n",
       "      <td>40.77</td>\n",
       "      <td>-73.90</td>\n",
       "      <td>1217</td>\n",
       "    </tr>\n",
       "    <tr>\n",
       "      <td>40.78</td>\n",
       "      <td>-73.97</td>\n",
       "      <td>1210</td>\n",
       "    </tr>\n",
       "    <tr>\n",
       "      <td>40.84</td>\n",
       "      <td>-73.85</td>\n",
       "      <td>824</td>\n",
       "    </tr>\n",
       "  </tbody>\n",
       "</table>\n",
       "</div>"
      ],
      "text/plain": [
       "                    date\n",
       "latitude longitude      \n",
       "40.65    -73.78     1217\n",
       "40.77    -73.90     1217\n",
       "40.78    -73.97     1210\n",
       "40.84    -73.85      824"
      ]
     },
     "execution_count": 29,
     "metadata": {},
     "output_type": "execute_result"
    }
   ],
   "source": [
    "NYCweather[['latitude','longitude','date']].groupby(['latitude','longitude']).count() #see the observations per station"
   ]
  },
  {
   "cell_type": "code",
   "execution_count": 30,
   "metadata": {},
   "outputs": [],
   "source": [
    "NYCweather = NYCweather[NYCweather.latitude == 40.77] #take one of the two stations (in Long Island City) with max observation days "
   ]
  },
  {
   "cell_type": "code",
   "execution_count": 31,
   "metadata": {},
   "outputs": [
    {
     "data": {
      "text/plain": [
       "1217"
      ]
     },
     "execution_count": 31,
     "metadata": {},
     "output_type": "execute_result"
    }
   ],
   "source": [
    "len(NYCweather)"
   ]
  },
  {
   "cell_type": "markdown",
   "metadata": {},
   "source": [
    "Now look at the distribution of the average daily temperatures"
   ]
  },
  {
   "cell_type": "code",
   "execution_count": 32,
   "metadata": {},
   "outputs": [
    {
     "name": "stdout",
     "output_type": "stream",
     "text": [
      "Mean = 55.15\n",
      "Standard deviation = 17.45\n",
      "1 percentile = 19.50\n",
      "5 percentile = 27.90\n",
      "25 percentile = 41.00\n",
      "50 percentile = 54.50\n",
      "75 percentile = 71.00\n",
      "95 percentile = 82.50\n",
      "99 percentile = 87.00\n"
     ]
    },
    {
     "data": {
      "image/png": "[encoded data removed]",
      "text/plain": [
       "<Figure size 432x288 with 1 Axes>"
      ]
     },
     "metadata": {
      "needs_background": "light"
     },
     "output_type": "display_data"
    },
    {
     "data": {
      "text/plain": [
       "(55.14749383730485, 17.44202216213827)"
      ]
     },
     "execution_count": 32,
     "metadata": {},
     "output_type": "execute_result"
    }
   ],
   "source": [
    "distribution_analysis(NYCweather.avgtemp, fit_distribution='normal',bins=12)"
   ]
  },
  {
   "cell_type": "markdown",
   "metadata": {},
   "source": [
    "The distribution generally resembles the bell curve but does not look that consistent. Perhaps this is because we have seasons in NYC and summer temperatures are nothing alike winter temperatures?\n",
    "\n",
    "Let's filter only summer and take the max temperatures for this period"
   ]
  },
  {
   "cell_type": "code",
   "execution_count": 33,
   "metadata": {},
   "outputs": [],
   "source": [
    "NYCweather['month'] = pd.DatetimeIndex(NYCweather['date']).month #get the month from the date"
   ]
  },
  {
   "cell_type": "code",
   "execution_count": 34,
   "metadata": {},
   "outputs": [],
   "source": [
    "NYCsummer=NYCweather[(NYCweather['month']>=6) & (NYCweather['month']<=8)] #filter the summer observations only"
   ]
  },
  {
   "cell_type": "code",
   "execution_count": 35,
   "metadata": {},
   "outputs": [
    {
     "name": "stdout",
     "output_type": "stream",
     "text": [
      "Mean = 76.94\n",
      "Standard deviation = 6.08\n",
      "1 percentile = 62.00\n",
      "5 percentile = 66.38\n",
      "25 percentile = 73.00\n",
      "50 percentile = 77.00\n",
      "75 percentile = 81.50\n",
      "95 percentile = 86.25\n",
      "99 percentile = 89.62\n"
     ]
    },
    {
     "data": {
      "image/png": "[encoded data removed]",
      "text/plain": [
       "<Figure size 432x288 with 1 Axes>"
      ]
     },
     "metadata": {
      "needs_background": "light"
     },
     "output_type": "display_data"
    },
    {
     "data": {
      "text/plain": [
       "(76.93659420289855, 6.071327362017139)"
      ]
     },
     "execution_count": 35,
     "metadata": {},
     "output_type": "execute_result"
    }
   ],
   "source": [
    "distribution_analysis(NYCsummer.avgtemp, fit_distribution='normal',bins=12) #avg temp distribution"
   ]
  },
  {
   "cell_type": "code",
   "execution_count": 36,
   "metadata": {},
   "outputs": [
    {
     "name": "stdout",
     "output_type": "stream",
     "text": [
      "Mean = 84.16\n",
      "Standard deviation = 7.13\n",
      "1 percentile = 67.25\n",
      "5 percentile = 72.00\n",
      "25 percentile = 80.00\n",
      "50 percentile = 84.00\n",
      "75 percentile = 89.00\n",
      "95 percentile = 96.25\n",
      "99 percentile = 100.00\n"
     ]
    },
    {
     "data": {
      "image/png": "[encoded data removed]",
      "text/plain": [
       "<Figure size 432x288 with 1 Axes>"
      ]
     },
     "metadata": {
      "needs_background": "light"
     },
     "output_type": "display_data"
    }
   ],
   "source": [
    "summertemp_pars = distribution_analysis(NYCsummer.maxtemp, fit_distribution='normal',bins=12) #max temp distribution"
   ]
  },
  {
   "cell_type": "markdown",
   "metadata": {},
   "source": [
    "What is the theoretic and emprical chance of encountering a max temp above 100 degrees? Above 105?"
   ]
  },
  {
   "cell_type": "code",
   "execution_count": 37,
   "metadata": {},
   "outputs": [
    {
     "name": "stdout",
     "output_type": "stream",
     "text": [
      "Percentage higher than 100: theory = 1.2997506272690917, empiric = 1.4492753623188406\n"
     ]
    }
   ],
   "source": [
    "extreme_percentage(threshold = 100, data = NYCsummer.maxtemp, dist = norm, pars = summertemp_pars)"
   ]
  },
  {
   "cell_type": "code",
   "execution_count": 38,
   "metadata": {},
   "outputs": [
    {
     "name": "stdout",
     "output_type": "stream",
     "text": [
      "Percentage higher than 105: theory = 0.17002588174360733, empiric = 0.0\n"
     ]
    }
   ],
   "source": [
    "extreme_percentage(threshold = 105, data = NYCsummer.maxtemp, dist = norm, pars = summertemp_pars)"
   ]
  },
  {
   "cell_type": "markdown",
   "metadata": {},
   "source": [
    "## Task 2. Analyze the distribution of winter min temperatures. \n",
    "Consider only the months of 12,1,2. Fit the normal distribution. Assess the chance of encountering a min temperature below 20, 10, 0F\n",
    "\n",
    "Note: you'll need to modify the extreme_percentage function to return low percentages (create a new one extreme_low_percentage) \n",
    "\n",
    "Extracredit: can you think of the way of getting those extreme low percentages (theoretic or both - theoretic and empiric) using the old version of the function?"
   ]
  },
  {
   "cell_type": "markdown",
   "metadata": {},
   "source": [
    "## Example 3. City sizes"
   ]
  },
  {
   "cell_type": "markdown",
   "metadata": {},
   "source": [
    "Analyze the distribution of city sizes accross US and the world based on the data from https://simplemaps.com/data/world-cities"
   ]
  },
  {
   "cell_type": "code",
   "execution_count": 39,
   "metadata": {},
   "outputs": [],
   "source": [
    "UScities = pd.read_csv('https://raw.githubusercontent.com/CUSP2020PUI/Data/master/uscities.csv')"
   ]
  },
  {
   "cell_type": "code",
   "execution_count": 40,
   "metadata": {},
   "outputs": [
    {
     "data": {
      "text/html": [
       "<div>\n",
       "<style scoped>\n",
       "    .dataframe tbody tr th:only-of-type {\n",
       "        vertical-align: middle;\n",
       "    }\n",
       "\n",
       "    .dataframe tbody tr th {\n",
       "        vertical-align: top;\n",
       "    }\n",
       "\n",
       "    .dataframe thead th {\n",
       "        text-align: right;\n",
       "    }\n",
       "</style>\n",
       "<table border=\"1\" class=\"dataframe\">\n",
       "  <thead>\n",
       "    <tr style=\"text-align: right;\">\n",
       "      <th></th>\n",
       "      <th>city</th>\n",
       "      <th>city_ascii</th>\n",
       "      <th>state_id</th>\n",
       "      <th>state_name</th>\n",
       "      <th>county_fips</th>\n",
       "      <th>county_name</th>\n",
       "      <th>lat</th>\n",
       "      <th>lng</th>\n",
       "      <th>population</th>\n",
       "      <th>density</th>\n",
       "      <th>source</th>\n",
       "      <th>military</th>\n",
       "      <th>incorporated</th>\n",
       "      <th>timezone</th>\n",
       "      <th>ranking</th>\n",
       "      <th>zips</th>\n",
       "      <th>id</th>\n",
       "    </tr>\n",
       "  </thead>\n",
       "  <tbody>\n",
       "    <tr>\n",
       "      <td>0</td>\n",
       "      <td>New York</td>\n",
       "      <td>New York</td>\n",
       "      <td>NY</td>\n",
       "      <td>New York</td>\n",
       "      <td>36061</td>\n",
       "      <td>New York</td>\n",
       "      <td>40.6943</td>\n",
       "      <td>-73.9249</td>\n",
       "      <td>18713220.0</td>\n",
       "      <td>10715.0</td>\n",
       "      <td>polygon</td>\n",
       "      <td>False</td>\n",
       "      <td>True</td>\n",
       "      <td>America/New_York</td>\n",
       "      <td>1</td>\n",
       "      <td>11229 11226 11225 11224 11222 11221 11220 1138...</td>\n",
       "      <td>1840034016</td>\n",
       "    </tr>\n",
       "    <tr>\n",
       "      <td>1</td>\n",
       "      <td>Los Angeles</td>\n",
       "      <td>Los Angeles</td>\n",
       "      <td>CA</td>\n",
       "      <td>California</td>\n",
       "      <td>6037</td>\n",
       "      <td>Los Angeles</td>\n",
       "      <td>34.1139</td>\n",
       "      <td>-118.4068</td>\n",
       "      <td>12750807.0</td>\n",
       "      <td>3276.0</td>\n",
       "      <td>polygon</td>\n",
       "      <td>False</td>\n",
       "      <td>True</td>\n",
       "      <td>America/Los_Angeles</td>\n",
       "      <td>1</td>\n",
       "      <td>90291 90293 90292 91316 91311 90037 90031 9000...</td>\n",
       "      <td>1840020491</td>\n",
       "    </tr>\n",
       "    <tr>\n",
       "      <td>2</td>\n",
       "      <td>Chicago</td>\n",
       "      <td>Chicago</td>\n",
       "      <td>IL</td>\n",
       "      <td>Illinois</td>\n",
       "      <td>17031</td>\n",
       "      <td>Cook</td>\n",
       "      <td>41.8373</td>\n",
       "      <td>-87.6862</td>\n",
       "      <td>8604203.0</td>\n",
       "      <td>4574.0</td>\n",
       "      <td>polygon</td>\n",
       "      <td>False</td>\n",
       "      <td>True</td>\n",
       "      <td>America/Chicago</td>\n",
       "      <td>1</td>\n",
       "      <td>60018 60649 60641 60640 60643 60642 60645 6064...</td>\n",
       "      <td>1840000494</td>\n",
       "    </tr>\n",
       "    <tr>\n",
       "      <td>3</td>\n",
       "      <td>Miami</td>\n",
       "      <td>Miami</td>\n",
       "      <td>FL</td>\n",
       "      <td>Florida</td>\n",
       "      <td>12086</td>\n",
       "      <td>Miami-Dade</td>\n",
       "      <td>25.7839</td>\n",
       "      <td>-80.2102</td>\n",
       "      <td>6445545.0</td>\n",
       "      <td>5019.0</td>\n",
       "      <td>polygon</td>\n",
       "      <td>False</td>\n",
       "      <td>True</td>\n",
       "      <td>America/New_York</td>\n",
       "      <td>1</td>\n",
       "      <td>33129 33125 33126 33127 33128 33149 33144 3314...</td>\n",
       "      <td>1840015149</td>\n",
       "    </tr>\n",
       "    <tr>\n",
       "      <td>4</td>\n",
       "      <td>Dallas</td>\n",
       "      <td>Dallas</td>\n",
       "      <td>TX</td>\n",
       "      <td>Texas</td>\n",
       "      <td>48113</td>\n",
       "      <td>Dallas</td>\n",
       "      <td>32.7936</td>\n",
       "      <td>-96.7662</td>\n",
       "      <td>5743938.0</td>\n",
       "      <td>1526.0</td>\n",
       "      <td>polygon</td>\n",
       "      <td>False</td>\n",
       "      <td>True</td>\n",
       "      <td>America/Chicago</td>\n",
       "      <td>1</td>\n",
       "      <td>75287 75098 75233 75254 75251 75252 75253 7503...</td>\n",
       "      <td>1840019440</td>\n",
       "    </tr>\n",
       "  </tbody>\n",
       "</table>\n",
       "</div>"
      ],
      "text/plain": [
       "          city   city_ascii state_id  state_name  county_fips  county_name  \\\n",
       "0     New York     New York       NY    New York        36061     New York   \n",
       "1  Los Angeles  Los Angeles       CA  California         6037  Los Angeles   \n",
       "2      Chicago      Chicago       IL    Illinois        17031         Cook   \n",
       "3        Miami        Miami       FL     Florida        12086   Miami-Dade   \n",
       "4       Dallas       Dallas       TX       Texas        48113       Dallas   \n",
       "\n",
       "       lat       lng  population  density   source  military  incorporated  \\\n",
       "0  40.6943  -73.9249  18713220.0  10715.0  polygon     False          True   \n",
       "1  34.1139 -118.4068  12750807.0   3276.0  polygon     False          True   \n",
       "2  41.8373  -87.6862   8604203.0   4574.0  polygon     False          True   \n",
       "3  25.7839  -80.2102   6445545.0   5019.0  polygon     False          True   \n",
       "4  32.7936  -96.7662   5743938.0   1526.0  polygon     False          True   \n",
       "\n",
       "              timezone  ranking  \\\n",
       "0     America/New_York        1   \n",
       "1  America/Los_Angeles        1   \n",
       "2      America/Chicago        1   \n",
       "3     America/New_York        1   \n",
       "4      America/Chicago        1   \n",
       "\n",
       "                                                zips          id  \n",
       "0  11229 11226 11225 11224 11222 11221 11220 1138...  1840034016  \n",
       "1  90291 90293 90292 91316 91311 90037 90031 9000...  1840020491  \n",
       "2  60018 60649 60641 60640 60643 60642 60645 6064...  1840000494  \n",
       "3  33129 33125 33126 33127 33128 33149 33144 3314...  1840015149  \n",
       "4  75287 75098 75233 75254 75251 75252 75253 7503...  1840019440  "
      ]
     },
     "execution_count": 40,
     "metadata": {},
     "output_type": "execute_result"
    }
   ],
   "source": [
    "UScities.head()"
   ]
  },
  {
   "cell_type": "code",
   "execution_count": 41,
   "metadata": {},
   "outputs": [
    {
     "data": {
      "text/html": [
       "<div>\n",
       "<style scoped>\n",
       "    .dataframe tbody tr th:only-of-type {\n",
       "        vertical-align: middle;\n",
       "    }\n",
       "\n",
       "    .dataframe tbody tr th {\n",
       "        vertical-align: top;\n",
       "    }\n",
       "\n",
       "    .dataframe thead th {\n",
       "        text-align: right;\n",
       "    }\n",
       "</style>\n",
       "<table border=\"1\" class=\"dataframe\">\n",
       "  <thead>\n",
       "    <tr style=\"text-align: right;\">\n",
       "      <th></th>\n",
       "      <th>county_fips</th>\n",
       "      <th>lat</th>\n",
       "      <th>lng</th>\n",
       "      <th>population</th>\n",
       "      <th>density</th>\n",
       "      <th>ranking</th>\n",
       "      <th>id</th>\n",
       "    </tr>\n",
       "  </thead>\n",
       "  <tbody>\n",
       "    <tr>\n",
       "      <td>count</td>\n",
       "      <td>29488.000000</td>\n",
       "      <td>29488.000000</td>\n",
       "      <td>29488.000000</td>\n",
       "      <td>2.948800e+04</td>\n",
       "      <td>29488.000000</td>\n",
       "      <td>29488.000000</td>\n",
       "      <td>2.948800e+04</td>\n",
       "    </tr>\n",
       "    <tr>\n",
       "      <td>mean</td>\n",
       "      <td>29940.044018</td>\n",
       "      <td>38.716075</td>\n",
       "      <td>-92.584179</td>\n",
       "      <td>1.379529e+04</td>\n",
       "      <td>511.632932</td>\n",
       "      <td>2.947368</td>\n",
       "      <td>1.838234e+09</td>\n",
       "    </tr>\n",
       "    <tr>\n",
       "      <td>std</td>\n",
       "      <td>15768.565361</td>\n",
       "      <td>5.877632</td>\n",
       "      <td>15.767434</td>\n",
       "      <td>1.860881e+05</td>\n",
       "      <td>779.074081</td>\n",
       "      <td>0.231063</td>\n",
       "      <td>1.929139e+07</td>\n",
       "    </tr>\n",
       "    <tr>\n",
       "      <td>min</td>\n",
       "      <td>1001.000000</td>\n",
       "      <td>17.955900</td>\n",
       "      <td>-176.629500</td>\n",
       "      <td>0.000000e+00</td>\n",
       "      <td>0.000000</td>\n",
       "      <td>1.000000</td>\n",
       "      <td>1.630024e+09</td>\n",
       "    </tr>\n",
       "    <tr>\n",
       "      <td>25%</td>\n",
       "      <td>17201.000000</td>\n",
       "      <td>35.225400</td>\n",
       "      <td>-98.115500</td>\n",
       "      <td>3.230000e+02</td>\n",
       "      <td>115.000000</td>\n",
       "      <td>3.000000</td>\n",
       "      <td>1.840008e+09</td>\n",
       "    </tr>\n",
       "    <tr>\n",
       "      <td>50%</td>\n",
       "      <td>30031.000000</td>\n",
       "      <td>39.478250</td>\n",
       "      <td>-89.914750</td>\n",
       "      <td>1.074000e+03</td>\n",
       "      <td>295.000000</td>\n",
       "      <td>3.000000</td>\n",
       "      <td>1.840016e+09</td>\n",
       "    </tr>\n",
       "    <tr>\n",
       "      <td>75%</td>\n",
       "      <td>42041.000000</td>\n",
       "      <td>41.927575</td>\n",
       "      <td>-81.444125</td>\n",
       "      <td>4.323250e+03</td>\n",
       "      <td>601.000000</td>\n",
       "      <td>3.000000</td>\n",
       "      <td>1.840024e+09</td>\n",
       "    </tr>\n",
       "    <tr>\n",
       "      <td>max</td>\n",
       "      <td>72153.000000</td>\n",
       "      <td>71.272800</td>\n",
       "      <td>173.123000</td>\n",
       "      <td>1.871322e+07</td>\n",
       "      <td>33191.000000</td>\n",
       "      <td>4.000000</td>\n",
       "      <td>1.840142e+09</td>\n",
       "    </tr>\n",
       "  </tbody>\n",
       "</table>\n",
       "</div>"
      ],
      "text/plain": [
       "        county_fips           lat           lng    population       density  \\\n",
       "count  29488.000000  29488.000000  29488.000000  2.948800e+04  29488.000000   \n",
       "mean   29940.044018     38.716075    -92.584179  1.379529e+04    511.632932   \n",
       "std    15768.565361      5.877632     15.767434  1.860881e+05    779.074081   \n",
       "min     1001.000000     17.955900   -176.629500  0.000000e+00      0.000000   \n",
       "25%    17201.000000     35.225400    -98.115500  3.230000e+02    115.000000   \n",
       "50%    30031.000000     39.478250    -89.914750  1.074000e+03    295.000000   \n",
       "75%    42041.000000     41.927575    -81.444125  4.323250e+03    601.000000   \n",
       "max    72153.000000     71.272800    173.123000  1.871322e+07  33191.000000   \n",
       "\n",
       "            ranking            id  \n",
       "count  29488.000000  2.948800e+04  \n",
       "mean       2.947368  1.838234e+09  \n",
       "std        0.231063  1.929139e+07  \n",
       "min        1.000000  1.630024e+09  \n",
       "25%        3.000000  1.840008e+09  \n",
       "50%        3.000000  1.840016e+09  \n",
       "75%        3.000000  1.840024e+09  \n",
       "max        4.000000  1.840142e+09  "
      ]
     },
     "execution_count": 41,
     "metadata": {},
     "output_type": "execute_result"
    }
   ],
   "source": [
    "UScities.describe() #we have cities with zero population"
   ]
  },
  {
   "cell_type": "code",
   "execution_count": 42,
   "metadata": {},
   "outputs": [],
   "source": [
    "UScities = UScities[UScities.population >= 100] #keep only those with at least 100 residents"
   ]
  },
  {
   "cell_type": "code",
   "execution_count": 43,
   "metadata": {},
   "outputs": [
    {
     "data": {
      "text/plain": [
       "27127"
      ]
     },
     "execution_count": 43,
     "metadata": {},
     "output_type": "execute_result"
    }
   ],
   "source": [
    "len(UScities) #there are 27k of US cities in the database"
   ]
  },
  {
   "cell_type": "code",
   "execution_count": 44,
   "metadata": {},
   "outputs": [
    {
     "name": "stdout",
     "output_type": "stream",
     "text": [
      "Mean = 14991.52\n",
      "Standard deviation = 193971.44\n",
      "1 percentile = 110.00\n",
      "5 percentile = 151.00\n",
      "25 percentile = 441.00\n",
      "50 percentile = 1307.00\n",
      "75 percentile = 4933.00\n",
      "95 percentile = 36304.50\n",
      "99 percentile = 163940.38\n"
     ]
    },
    {
     "data": {
      "image/png": "[encoded data removed]",
      "text/plain": [
       "<Figure size 432x288 with 1 Axes>"
      ]
     },
     "metadata": {
      "needs_background": "light"
     },
     "output_type": "display_data"
    }
   ],
   "source": [
    "distribution_analysis(UScities.population, vis_means = False) \n",
    "#clearly visualizing the distribution on the original scale does not make much sense\n",
    "#this is because the scale ranges considerable (std so much higher than the mean)"
   ]
  },
  {
   "cell_type": "code",
   "execution_count": 45,
   "metadata": {},
   "outputs": [
    {
     "name": "stdout",
     "output_type": "stream",
     "text": [
      "Log mean = 3.22(1650.61), mean = 14991.52\n",
      "Standard deviation = 0.74\n",
      "1 percentile = 110.00\n",
      "5 percentile = 151.00\n",
      "25 percentile = 441.00\n",
      "50 percentile = 1307.00\n",
      "75 percentile = 4933.00\n",
      "95 percentile = 36304.50\n",
      "99 percentile = 163940.38\n"
     ]
    },
    {
     "data": {
      "image/png": "[encoded data removed]",
      "text/plain": [
       "<Figure size 432x288 with 1 Axes>"
      ]
     },
     "metadata": {
      "needs_background": "light"
     },
     "output_type": "display_data"
    }
   ],
   "source": [
    "#let's repeat on the log-scale \n",
    "distribution_analysis(UScities.population, log_scale=True)"
   ]
  },
  {
   "cell_type": "code",
   "execution_count": 46,
   "metadata": {},
   "outputs": [
    {
     "name": "stdout",
     "output_type": "stream",
     "text": [
      "Log mean = 3.22(1650.61), mean = 14991.52\n",
      "Standard deviation = 0.74\n",
      "1 percentile = 110.00\n",
      "5 percentile = 151.00\n",
      "25 percentile = 441.00\n",
      "50 percentile = 1307.00\n",
      "75 percentile = 4933.00\n",
      "95 percentile = 36304.50\n",
      "99 percentile = 163940.38\n"
     ]
    },
    {
     "data": {
      "image/png": "[encoded data removed]",
      "text/plain": [
       "<Figure size 432x288 with 1 Axes>"
      ]
     },
     "metadata": {
      "needs_background": "light"
     },
     "output_type": "display_data"
    },
    {
     "data": {
      "text/plain": [
       "(3.2176434376889214, 0.744223545403654)"
      ]
     },
     "execution_count": 46,
     "metadata": {},
     "output_type": "execute_result"
    }
   ],
   "source": [
    "#the distribution now makes more sense; but as its not centered around mean, the normal distribution won't fit well\n",
    "distribution_analysis(UScities.population, log_scale=True, fit_distribution='normal')"
   ]
  },
  {
   "cell_type": "code",
   "execution_count": 47,
   "metadata": {},
   "outputs": [
    {
     "name": "stdout",
     "output_type": "stream",
     "text": [
      "Log mean = 3.22(1650.61), mean = 14991.52\n",
      "Standard deviation = 0.74\n",
      "1 percentile = 110.00\n",
      "5 percentile = 151.00\n",
      "25 percentile = 441.00\n",
      "50 percentile = 1307.00\n",
      "75 percentile = 4933.00\n",
      "95 percentile = 36304.50\n",
      "99 percentile = 163940.38\n"
     ]
    },
    {
     "data": {
      "image/png": "[encoded data removed]",
      "text/plain": [
       "<Figure size 432x288 with 1 Axes>"
      ]
     },
     "metadata": {
      "needs_background": "light"
     },
     "output_type": "display_data"
    }
   ],
   "source": [
    "#lets try GEV instead\n",
    "pars = distribution_analysis(UScities.population, log_scale=True, fit_distribution='gev')"
   ]
  },
  {
   "cell_type": "markdown",
   "metadata": {},
   "source": [
    "It fits better but maybe not perfectly well"
   ]
  },
  {
   "cell_type": "markdown",
   "metadata": {},
   "source": [
    "Let's also try a rank plot visualization"
   ]
  },
  {
   "cell_type": "code",
   "execution_count": 48,
   "metadata": {},
   "outputs": [],
   "source": [
    "#function visualizing the rank plot for the 'top_percentile' of the values 'x' on the `log_scale` by default\n",
    "def rank_plot(x, log_scale = True, top_percentile = 100):\n",
    "    v = np.sort(x)[::-1]\n",
    "    r = np.arange(1.0,len(x)+0.1,1.0) / len(x)\n",
    "    st = ''\n",
    "    v = v[r<=top_percentile/100.0]; r = r[r<=top_percentile/100.0]\n",
    "    if log_scale:\n",
    "        r = np.log10(r)\n",
    "        v = np.log10(v)\n",
    "        st = 'log'\n",
    "    plt.plot(r,v,'o:')\n",
    "    plt.xlabel(st+'rank')\n",
    "    plt.ylabel(st+'value')"
   ]
  },
  {
   "cell_type": "code",
   "execution_count": 49,
   "metadata": {},
   "outputs": [
    {
     "data": {
      "image/png": "[encoded data removed]",
      "text/plain": [
       "<Figure size 432x288 with 1 Axes>"
      ]
     },
     "metadata": {
      "needs_background": "light"
     },
     "output_type": "display_data"
    }
   ],
   "source": [
    "rank_plot(UScities.population) #we can see the log-log rank plot nearly linear in the beginning"
   ]
  },
  {
   "cell_type": "code",
   "execution_count": 50,
   "metadata": {},
   "outputs": [
    {
     "data": {
      "image/png": "[encoded data removed]",
      "text/plain": [
       "<Figure size 432x288 with 1 Axes>"
      ]
     },
     "metadata": {
      "needs_background": "light"
     },
     "output_type": "display_data"
    }
   ],
   "source": [
    "rank_plot(UScities.population, top_percentile = 25) #so now focus on the top 25% of the cities (those are the ones above 5000 residents)"
   ]
  },
  {
   "cell_type": "markdown",
   "metadata": {},
   "source": [
    "The plot is nearly linear with the slope coefficient pretty close to -1. It corresponds to an almost perfect Zipf law $$Population \\sim \\frac{1}{rank}$$"
   ]
  },
  {
   "cell_type": "code",
   "execution_count": 51,
   "metadata": {},
   "outputs": [],
   "source": [
    "#introduce a function reporting cumulative population of the `top_percentile` cities\n",
    "def pareto_percent(top_percentile, data):\n",
    "    empiric = 100.0 * sum(data[data >= np.percentile(data, 100.0 - top_percentile)])/sum(data)\n",
    "    print('Top {} percent observations contribute {} percent of the total'.format(top_percentile, empiric))"
   ]
  },
  {
   "cell_type": "code",
   "execution_count": 52,
   "metadata": {},
   "outputs": [
    {
     "name": "stdout",
     "output_type": "stream",
     "text": [
      "Top 20 percent observations contribute 91.86801721653124 percent of the total\n"
     ]
    }
   ],
   "source": [
    "pareto_percent(20,UScities.population) #to 20 percent of cities cover even more than 80% - >90% of the total population"
   ]
  },
  {
   "cell_type": "code",
   "execution_count": 53,
   "metadata": {},
   "outputs": [
    {
     "name": "stdout",
     "output_type": "stream",
     "text": [
      "Top 7 percent observations contribute 80.23835404605484 percent of the total\n"
     ]
    }
   ],
   "source": [
    "pareto_percent(7,UScities.population[UScities.population>=100]) #and it takes only 7% to cover 80% of the population"
   ]
  },
  {
   "cell_type": "code",
   "execution_count": 54,
   "metadata": {},
   "outputs": [
    {
     "name": "stdout",
     "output_type": "stream",
     "text": [
      "Top 1 percent observations contribute 57.45622503314693 percent of the total\n"
     ]
    }
   ],
   "source": [
    "pareto_percent(1,UScities.population[UScities.population>=100]) #top 1% covers more than 50% of the population"
   ]
  },
  {
   "cell_type": "markdown",
   "metadata": {},
   "source": [
    "## Task 3. Repeat the analysis for the world cities\n",
    "\n",
    "Upload the data and keep only the cities above 10000 in population. Output the `describe` statistics.\n",
    "\n",
    "Fit the GEV distribution on the log scale. Visualize the rank plot for the top 25% of the cities (after filtering). Report the percentage of the total population covered by top 20% and top 5% of the cities"
   ]
  },
  {
   "cell_type": "code",
   "execution_count": 55,
   "metadata": {},
   "outputs": [],
   "source": [
    "## upload the dataset for major world cities\n",
    "WorldCities = pd.read_csv('https://raw.githubusercontent.com/CUSP2020PUI/Data/master/worldcities.csv')"
   ]
  },
  {
   "cell_type": "markdown",
   "metadata": {},
   "source": [
    "## Task 4. Taxi trip duration analysis\n",
    "\n",
    "Upload the 'yellowTaxi_cleaned.csv' file saved in the previous lab. Analyze the trip distance the the trip duration distributions. Try fitting normal distribution on the original and the log-scale.\n",
    "\n",
    "Take only the trips which start and end on Manhattan (feel free to use the taxi zones shapefile https://data.cityofnewyork.us/api/geospatial/d3c5-ddgc?method=export&format=Shapefile for borough information, create a TZ to borhough dictionary, then map it for filtering). Repeat the distribution analysis for the trip distances."
   ]
  },
  {
   "cell_type": "code",
   "execution_count": null,
   "metadata": {},
   "outputs": [],
   "source": []
  }
 ],
 "metadata": {
  "kernelspec": {
   "display_name": "Python 3",
   "language": "python",
   "name": "python3"
  },
  "language_info": {
   "codemirror_mode": {
    "name": "ipython",
    "version": 3
   },
   "file_extension": ".py",
   "mimetype": "text/x-python",
   "name": "python",
   "nbconvert_exporter": "python",
   "pygments_lexer": "ipython3",
   "version": "3.7.3"
  }
 },
 "nbformat": 4,
 "nbformat_minor": 2
}
